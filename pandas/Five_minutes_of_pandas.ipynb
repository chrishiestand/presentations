{
 "metadata": {
  "name": "",
  "signature": "sha256:78e1e460c52cafe0a216572bddcf17b2231de3003bc16b2161cab37620866749"
 },
 "nbformat": 3,
 "nbformat_minor": 0,
 "worksheets": [
  {
   "cells": [
    {
     "cell_type": "code",
     "collapsed": false,
     "input": [
      "!wget https://raw.github.com/amplab/datascience-sp14/master/lab2/data/wc_day6_1_sample.tar.bz2"
     ],
     "language": "python",
     "metadata": {},
     "outputs": [
      {
       "output_type": "stream",
       "stream": "stdout",
       "text": [
        "--2014-06-27 00:01:10--  https://raw.github.com/amplab/datascience-sp14/master/lab2/data/wc_day6_1_sample.tar.bz2\r\n",
        "Resolving raw.github.com (raw.github.com)... "
       ]
      },
      {
       "output_type": "stream",
       "stream": "stdout",
       "text": [
        "199.27.79.133\r\n",
        "Connecting to raw.github.com (raw.github.com)|199.27.79.133|:443... "
       ]
      },
      {
       "output_type": "stream",
       "stream": "stdout",
       "text": [
        "connected.\r\n"
       ]
      },
      {
       "output_type": "stream",
       "stream": "stdout",
       "text": [
        "HTTP request sent, awaiting response... "
       ]
      },
      {
       "output_type": "stream",
       "stream": "stdout",
       "text": [
        "301 Moved Permanently\r\n",
        "Location: https://raw.githubusercontent.com/amplab/datascience-sp14/master/lab2/data/wc_day6_1_sample.tar.bz2 [following]\r\n",
        "--2014-06-27 00:01:10--  https://raw.githubusercontent.com/amplab/datascience-sp14/master/lab2/data/wc_day6_1_sample.tar.bz2\r\n",
        "Resolving raw.githubusercontent.com (raw.githubusercontent.com)... "
       ]
      },
      {
       "output_type": "stream",
       "stream": "stdout",
       "text": [
        "199.27.77.133\r\n",
        "Connecting to raw.githubusercontent.com (raw.githubusercontent.com)|199.27.77.133|:443... "
       ]
      },
      {
       "output_type": "stream",
       "stream": "stdout",
       "text": [
        "connected.\r\n"
       ]
      },
      {
       "output_type": "stream",
       "stream": "stdout",
       "text": [
        "HTTP request sent, awaiting response... "
       ]
      },
      {
       "output_type": "stream",
       "stream": "stdout",
       "text": [
        "200 OK\r\n",
        "Length: 1334995 (1.3M) [application/octet-stream]\r\n",
        "Saving to: \u2018wc_day6_1_sample.tar.bz2\u2019\r\n",
        "\r\n",
        "\r",
        " 0% [                                       ] 0           --.-K/s              "
       ]
      },
      {
       "output_type": "stream",
       "stream": "stdout",
       "text": [
        "\r",
        " 8% [==>                                    ] 114,688      555KB/s             "
       ]
      },
      {
       "output_type": "stream",
       "stream": "stdout",
       "text": [
        "\r",
        "22% [=======>                               ] 295,337      703KB/s             "
       ]
      },
      {
       "output_type": "stream",
       "stream": "stdout",
       "text": [
        "\r",
        "37% [=============>                         ] 503,337      803KB/s             "
       ]
      },
      {
       "output_type": "stream",
       "stream": "stdout",
       "text": [
        "\r",
        "53% [===================>                   ] 711,337      849KB/s             "
       ]
      },
      {
       "output_type": "stream",
       "stream": "stdout",
       "text": [
        "\r",
        "61% [=======================>               ] 823,337      759KB/s             "
       ]
      },
      {
       "output_type": "stream",
       "stream": "stdout",
       "text": [
        "\r",
        "78% [=============================>         ] 1,047,337    800KB/s             "
       ]
      },
      {
       "output_type": "stream",
       "stream": "stdout",
       "text": [
        "\r",
        "92% [==================================>    ] 1,228,800    809KB/s             "
       ]
      },
      {
       "output_type": "stream",
       "stream": "stdout",
       "text": [
        "\r",
        "100%[======================================>] 1,334,995    817KB/s   in 1.6s   \r\n",
        "\r\n",
        "2014-06-27 00:01:13 (817 KB/s) - \u2018wc_day6_1_sample.tar.bz2\u2019 saved [1334995/1334995]\r\n",
        "\r\n"
       ]
      }
     ],
     "prompt_number": 1
    },
    {
     "cell_type": "code",
     "collapsed": false,
     "input": [
      "!tar xjvf wc_day6_1_sample.tar.bz2"
     ],
     "language": "python",
     "metadata": {},
     "outputs": [
      {
       "output_type": "stream",
       "stream": "stdout",
       "text": [
        "wc_day6_1_sample.csv\r\n"
       ]
      }
     ],
     "prompt_number": 2
    },
    {
     "cell_type": "code",
     "collapsed": false,
     "input": [
      "!head wc_day6_1_sample.csv"
     ],
     "language": "python",
     "metadata": {},
     "outputs": [
      {
       "output_type": "stream",
       "stream": "stdout",
       "text": [
        "1044,30/Apr/1998,22:46:12,/images/11104.gif,200,508\r\n",
        "10871,01/May/1998,12:10:53,/images/ligne.gif,200,169\r\n",
        "11012,01/May/1998,12:17:30,/english/individuals/player111503.htm,200,7027\r\n",
        "11435,01/May/1998,13:15:13,/french/frntpage.htm,304,0\r\n",
        "12128,01/May/1998,13:30:21,/english/images/nav_sitemap_off.gif,304,-\r\n",
        "13649,01/May/1998,14:55:01,/images/hm_anime_e.gif,200,15609\r\n",
        "15006,01/May/1998,16:14:32,/english/images/comp_bu_group_off.gif,200,1557\r\n",
        "16366,01/May/1998,17:14:13,/images/arw_lk.gif,200,669\r\n",
        "16877,01/May/1998,17:46:37,/images/32p49807.jpg,200,13856\r\n",
        "17165,01/May/1998,17:58:46,/images/home_fr_button.gif,200,2140\r\n"
       ]
      }
     ],
     "prompt_number": 3
    },
    {
     "cell_type": "code",
     "collapsed": false,
     "input": [
      "import pandas as pd\n",
      "import numpy as np"
     ],
     "language": "python",
     "metadata": {},
     "outputs": [
      {
       "ename": "ImportError",
       "evalue": "No module named pandas",
       "output_type": "pyerr",
       "traceback": [
        "\u001b[1;31m---------------------------------------------------------------------------\u001b[0m\n\u001b[1;31mImportError\u001b[0m                               Traceback (most recent call last)",
        "\u001b[1;32m<ipython-input-4-c046f915005f>\u001b[0m in \u001b[0;36m<module>\u001b[1;34m()\u001b[0m\n\u001b[1;32m----> 1\u001b[1;33m \u001b[1;32mimport\u001b[0m \u001b[0mpandas\u001b[0m \u001b[1;32mas\u001b[0m \u001b[0mpd\u001b[0m\u001b[1;33m\u001b[0m\u001b[0m\n\u001b[0m\u001b[0;32m      2\u001b[0m \u001b[1;32mimport\u001b[0m \u001b[0mnumpy\u001b[0m \u001b[1;32mas\u001b[0m \u001b[0mnp\u001b[0m\u001b[1;33m\u001b[0m\u001b[0m\n",
        "\u001b[1;31mImportError\u001b[0m: No module named pandas"
       ]
      }
     ],
     "prompt_number": 4
    },
    {
     "cell_type": "code",
     "collapsed": false,
     "input": [
      "data = pd.read_csv(\"wc_day6_1_sample.csv\", \n",
      "            names=['ClientID', 'Date', 'Time', 'URL', 'ResponseCode', 'Size'],\n",
      "            na_values=['-'])"
     ],
     "language": "python",
     "metadata": {},
     "outputs": [],
     "prompt_number": 3
    },
    {
     "cell_type": "code",
     "collapsed": false,
     "input": [
      "type(data)"
     ],
     "language": "python",
     "metadata": {},
     "outputs": [
      {
       "metadata": {},
       "output_type": "pyout",
       "prompt_number": 4,
       "text": [
        "pandas.core.frame.DataFrame"
       ]
      }
     ],
     "prompt_number": 4
    },
    {
     "cell_type": "code",
     "collapsed": false,
     "input": [
      "data.head()"
     ],
     "language": "python",
     "metadata": {},
     "outputs": [
      {
       "html": [
        "<div style=\"max-height:1000px;max-width:1500px;overflow:auto;\">\n",
        "<table border=\"1\" class=\"dataframe\">\n",
        "  <thead>\n",
        "    <tr style=\"text-align: right;\">\n",
        "      <th></th>\n",
        "      <th>ClientID</th>\n",
        "      <th>Date</th>\n",
        "      <th>Time</th>\n",
        "      <th>URL</th>\n",
        "      <th>ResponseCode</th>\n",
        "      <th>Size</th>\n",
        "    </tr>\n",
        "  </thead>\n",
        "  <tbody>\n",
        "    <tr>\n",
        "      <th>0</th>\n",
        "      <td>  1044</td>\n",
        "      <td> 30/Apr/1998</td>\n",
        "      <td> 22:46:12</td>\n",
        "      <td>                     /images/11104.gif</td>\n",
        "      <td> 200</td>\n",
        "      <td>  508</td>\n",
        "    </tr>\n",
        "    <tr>\n",
        "      <th>1</th>\n",
        "      <td> 10871</td>\n",
        "      <td> 01/May/1998</td>\n",
        "      <td> 12:10:53</td>\n",
        "      <td>                     /images/ligne.gif</td>\n",
        "      <td> 200</td>\n",
        "      <td>  169</td>\n",
        "    </tr>\n",
        "    <tr>\n",
        "      <th>2</th>\n",
        "      <td> 11012</td>\n",
        "      <td> 01/May/1998</td>\n",
        "      <td> 12:17:30</td>\n",
        "      <td> /english/individuals/player111503.htm</td>\n",
        "      <td> 200</td>\n",
        "      <td> 7027</td>\n",
        "    </tr>\n",
        "    <tr>\n",
        "      <th>3</th>\n",
        "      <td> 11435</td>\n",
        "      <td> 01/May/1998</td>\n",
        "      <td> 13:15:13</td>\n",
        "      <td>                  /french/frntpage.htm</td>\n",
        "      <td> 304</td>\n",
        "      <td>    0</td>\n",
        "    </tr>\n",
        "    <tr>\n",
        "      <th>4</th>\n",
        "      <td> 12128</td>\n",
        "      <td> 01/May/1998</td>\n",
        "      <td> 13:30:21</td>\n",
        "      <td>   /english/images/nav_sitemap_off.gif</td>\n",
        "      <td> 304</td>\n",
        "      <td>  NaN</td>\n",
        "    </tr>\n",
        "  </tbody>\n",
        "</table>\n",
        "<p>5 rows \u00d7 6 columns</p>\n",
        "</div>"
       ],
       "metadata": {},
       "output_type": "pyout",
       "prompt_number": 5,
       "text": [
        "   ClientID         Date      Time                                    URL  \\\n",
        "0      1044  30/Apr/1998  22:46:12                      /images/11104.gif   \n",
        "1     10871  01/May/1998  12:10:53                      /images/ligne.gif   \n",
        "2     11012  01/May/1998  12:17:30  /english/individuals/player111503.htm   \n",
        "3     11435  01/May/1998  13:15:13                   /french/frntpage.htm   \n",
        "4     12128  01/May/1998  13:30:21    /english/images/nav_sitemap_off.gif   \n",
        "\n",
        "   ResponseCode  Size  \n",
        "0           200   508  \n",
        "1           200   169  \n",
        "2           200  7027  \n",
        "3           304     0  \n",
        "4           304   NaN  \n",
        "\n",
        "[5 rows x 6 columns]"
       ]
      }
     ],
     "prompt_number": 5
    },
    {
     "cell_type": "code",
     "collapsed": false,
     "input": [
      "pd.DataFrame(dict(mylabel = [1, 2, 3, 4]), index=[\"a\", \"b\", \"c\", \"d\"])"
     ],
     "language": "python",
     "metadata": {},
     "outputs": [
      {
       "html": [
        "<div style=\"max-height:1000px;max-width:1500px;overflow:auto;\">\n",
        "<table border=\"1\" class=\"dataframe\">\n",
        "  <thead>\n",
        "    <tr style=\"text-align: right;\">\n",
        "      <th></th>\n",
        "      <th>mylabel</th>\n",
        "    </tr>\n",
        "  </thead>\n",
        "  <tbody>\n",
        "    <tr>\n",
        "      <th>a</th>\n",
        "      <td> 1</td>\n",
        "    </tr>\n",
        "    <tr>\n",
        "      <th>b</th>\n",
        "      <td> 2</td>\n",
        "    </tr>\n",
        "    <tr>\n",
        "      <th>c</th>\n",
        "      <td> 3</td>\n",
        "    </tr>\n",
        "    <tr>\n",
        "      <th>d</th>\n",
        "      <td> 4</td>\n",
        "    </tr>\n",
        "  </tbody>\n",
        "</table>\n",
        "<p>4 rows \u00d7 1 columns</p>\n",
        "</div>"
       ],
       "metadata": {},
       "output_type": "pyout",
       "prompt_number": 6,
       "text": [
        "   mylabel\n",
        "a        1\n",
        "b        2\n",
        "c        3\n",
        "d        4\n",
        "\n",
        "[4 rows x 1 columns]"
       ]
      }
     ],
     "prompt_number": 6
    },
    {
     "cell_type": "code",
     "collapsed": false,
     "input": [
      "data.Size"
     ],
     "language": "python",
     "metadata": {},
     "outputs": [
      {
       "metadata": {},
       "output_type": "pyout",
       "prompt_number": 7,
       "text": [
        "0       508\n",
        "1       169\n",
        "2      7027\n",
        "3         0\n",
        "4       NaN\n",
        "5     15609\n",
        "6      1557\n",
        "7       669\n",
        "8     13856\n",
        "9      2140\n",
        "10      297\n",
        "11      318\n",
        "12     3541\n",
        "13     4573\n",
        "14       43\n",
        "...\n",
        "199985        0\n",
        "199986    15529\n",
        "199987      982\n",
        "199988      279\n",
        "199989    44502\n",
        "199990     2861\n",
        "199991      828\n",
        "199992    33665\n",
        "199993      211\n",
        "199994     2843\n",
        "199995     1740\n",
        "199996     1573\n",
        "199997    42591\n",
        "199998      776\n",
        "199999      944\n",
        "Name: Size, Length: 200000, dtype: float64"
       ]
      }
     ],
     "prompt_number": 7
    },
    {
     "cell_type": "code",
     "collapsed": false,
     "input": [
      "data.ix[:10]"
     ],
     "language": "python",
     "metadata": {},
     "outputs": [
      {
       "html": [
        "<div style=\"max-height:1000px;max-width:1500px;overflow:auto;\">\n",
        "<table border=\"1\" class=\"dataframe\">\n",
        "  <thead>\n",
        "    <tr style=\"text-align: right;\">\n",
        "      <th></th>\n",
        "      <th>ClientID</th>\n",
        "      <th>Date</th>\n",
        "      <th>Time</th>\n",
        "      <th>URL</th>\n",
        "      <th>ResponseCode</th>\n",
        "      <th>Size</th>\n",
        "    </tr>\n",
        "  </thead>\n",
        "  <tbody>\n",
        "    <tr>\n",
        "      <th>0 </th>\n",
        "      <td>  1044</td>\n",
        "      <td> 30/Apr/1998</td>\n",
        "      <td> 22:46:12</td>\n",
        "      <td>                     /images/11104.gif</td>\n",
        "      <td> 200</td>\n",
        "      <td>   508</td>\n",
        "    </tr>\n",
        "    <tr>\n",
        "      <th>1 </th>\n",
        "      <td> 10871</td>\n",
        "      <td> 01/May/1998</td>\n",
        "      <td> 12:10:53</td>\n",
        "      <td>                     /images/ligne.gif</td>\n",
        "      <td> 200</td>\n",
        "      <td>   169</td>\n",
        "    </tr>\n",
        "    <tr>\n",
        "      <th>2 </th>\n",
        "      <td> 11012</td>\n",
        "      <td> 01/May/1998</td>\n",
        "      <td> 12:17:30</td>\n",
        "      <td> /english/individuals/player111503.htm</td>\n",
        "      <td> 200</td>\n",
        "      <td>  7027</td>\n",
        "    </tr>\n",
        "    <tr>\n",
        "      <th>3 </th>\n",
        "      <td> 11435</td>\n",
        "      <td> 01/May/1998</td>\n",
        "      <td> 13:15:13</td>\n",
        "      <td>                  /french/frntpage.htm</td>\n",
        "      <td> 304</td>\n",
        "      <td>     0</td>\n",
        "    </tr>\n",
        "    <tr>\n",
        "      <th>4 </th>\n",
        "      <td> 12128</td>\n",
        "      <td> 01/May/1998</td>\n",
        "      <td> 13:30:21</td>\n",
        "      <td>   /english/images/nav_sitemap_off.gif</td>\n",
        "      <td> 304</td>\n",
        "      <td>   NaN</td>\n",
        "    </tr>\n",
        "    <tr>\n",
        "      <th>5 </th>\n",
        "      <td> 13649</td>\n",
        "      <td> 01/May/1998</td>\n",
        "      <td> 14:55:01</td>\n",
        "      <td>                /images/hm_anime_e.gif</td>\n",
        "      <td> 200</td>\n",
        "      <td> 15609</td>\n",
        "    </tr>\n",
        "    <tr>\n",
        "      <th>6 </th>\n",
        "      <td> 15006</td>\n",
        "      <td> 01/May/1998</td>\n",
        "      <td> 16:14:32</td>\n",
        "      <td> /english/images/comp_bu_group_off.gif</td>\n",
        "      <td> 200</td>\n",
        "      <td>  1557</td>\n",
        "    </tr>\n",
        "    <tr>\n",
        "      <th>7 </th>\n",
        "      <td> 16366</td>\n",
        "      <td> 01/May/1998</td>\n",
        "      <td> 17:14:13</td>\n",
        "      <td>                    /images/arw_lk.gif</td>\n",
        "      <td> 200</td>\n",
        "      <td>   669</td>\n",
        "    </tr>\n",
        "    <tr>\n",
        "      <th>8 </th>\n",
        "      <td> 16877</td>\n",
        "      <td> 01/May/1998</td>\n",
        "      <td> 17:46:37</td>\n",
        "      <td>                  /images/32p49807.jpg</td>\n",
        "      <td> 200</td>\n",
        "      <td> 13856</td>\n",
        "    </tr>\n",
        "    <tr>\n",
        "      <th>9 </th>\n",
        "      <td> 17165</td>\n",
        "      <td> 01/May/1998</td>\n",
        "      <td> 17:58:46</td>\n",
        "      <td>            /images/home_fr_button.gif</td>\n",
        "      <td> 200</td>\n",
        "      <td>  2140</td>\n",
        "    </tr>\n",
        "    <tr>\n",
        "      <th>10</th>\n",
        "      <td> 17251</td>\n",
        "      <td> 01/May/1998</td>\n",
        "      <td> 18:06:07</td>\n",
        "      <td>                   /images/s102438.gif</td>\n",
        "      <td> 200</td>\n",
        "      <td>   297</td>\n",
        "    </tr>\n",
        "  </tbody>\n",
        "</table>\n",
        "<p>11 rows \u00d7 6 columns</p>\n",
        "</div>"
       ],
       "metadata": {},
       "output_type": "pyout",
       "prompt_number": 8,
       "text": [
        "    ClientID         Date      Time                                    URL  \\\n",
        "0       1044  30/Apr/1998  22:46:12                      /images/11104.gif   \n",
        "1      10871  01/May/1998  12:10:53                      /images/ligne.gif   \n",
        "2      11012  01/May/1998  12:17:30  /english/individuals/player111503.htm   \n",
        "3      11435  01/May/1998  13:15:13                   /french/frntpage.htm   \n",
        "4      12128  01/May/1998  13:30:21    /english/images/nav_sitemap_off.gif   \n",
        "5      13649  01/May/1998  14:55:01                 /images/hm_anime_e.gif   \n",
        "6      15006  01/May/1998  16:14:32  /english/images/comp_bu_group_off.gif   \n",
        "7      16366  01/May/1998  17:14:13                     /images/arw_lk.gif   \n",
        "8      16877  01/May/1998  17:46:37                   /images/32p49807.jpg   \n",
        "9      17165  01/May/1998  17:58:46             /images/home_fr_button.gif   \n",
        "10     17251  01/May/1998  18:06:07                    /images/s102438.gif   \n",
        "\n",
        "    ResponseCode   Size  \n",
        "0            200    508  \n",
        "1            200    169  \n",
        "2            200   7027  \n",
        "3            304      0  \n",
        "4            304    NaN  \n",
        "5            200  15609  \n",
        "6            200   1557  \n",
        "7            200    669  \n",
        "8            200  13856  \n",
        "9            200   2140  \n",
        "10           200    297  \n",
        "\n",
        "[11 rows x 6 columns]"
       ]
      }
     ],
     "prompt_number": 8
    },
    {
     "cell_type": "code",
     "collapsed": false,
     "input": [
      "len(data[data.Date == \"01/May/1998\"])"
     ],
     "language": "python",
     "metadata": {},
     "outputs": [
      {
       "metadata": {},
       "output_type": "pyout",
       "prompt_number": 9,
       "text": [
        "183303"
       ]
      }
     ],
     "prompt_number": 9
    },
    {
     "cell_type": "code",
     "collapsed": false,
     "input": [
      "data[\"CompressedSize\"] = data.Size * 0.7"
     ],
     "language": "python",
     "metadata": {},
     "outputs": [],
     "prompt_number": 10
    },
    {
     "cell_type": "code",
     "collapsed": false,
     "input": [
      "data.head()"
     ],
     "language": "python",
     "metadata": {},
     "outputs": [
      {
       "html": [
        "<div style=\"max-height:1000px;max-width:1500px;overflow:auto;\">\n",
        "<table border=\"1\" class=\"dataframe\">\n",
        "  <thead>\n",
        "    <tr style=\"text-align: right;\">\n",
        "      <th></th>\n",
        "      <th>ClientID</th>\n",
        "      <th>Date</th>\n",
        "      <th>Time</th>\n",
        "      <th>URL</th>\n",
        "      <th>ResponseCode</th>\n",
        "      <th>Size</th>\n",
        "      <th>CompressedSize</th>\n",
        "    </tr>\n",
        "  </thead>\n",
        "  <tbody>\n",
        "    <tr>\n",
        "      <th>0</th>\n",
        "      <td>  1044</td>\n",
        "      <td> 30/Apr/1998</td>\n",
        "      <td> 22:46:12</td>\n",
        "      <td>                     /images/11104.gif</td>\n",
        "      <td> 200</td>\n",
        "      <td>  508</td>\n",
        "      <td>  355.6</td>\n",
        "    </tr>\n",
        "    <tr>\n",
        "      <th>1</th>\n",
        "      <td> 10871</td>\n",
        "      <td> 01/May/1998</td>\n",
        "      <td> 12:10:53</td>\n",
        "      <td>                     /images/ligne.gif</td>\n",
        "      <td> 200</td>\n",
        "      <td>  169</td>\n",
        "      <td>  118.3</td>\n",
        "    </tr>\n",
        "    <tr>\n",
        "      <th>2</th>\n",
        "      <td> 11012</td>\n",
        "      <td> 01/May/1998</td>\n",
        "      <td> 12:17:30</td>\n",
        "      <td> /english/individuals/player111503.htm</td>\n",
        "      <td> 200</td>\n",
        "      <td> 7027</td>\n",
        "      <td> 4918.9</td>\n",
        "    </tr>\n",
        "    <tr>\n",
        "      <th>3</th>\n",
        "      <td> 11435</td>\n",
        "      <td> 01/May/1998</td>\n",
        "      <td> 13:15:13</td>\n",
        "      <td>                  /french/frntpage.htm</td>\n",
        "      <td> 304</td>\n",
        "      <td>    0</td>\n",
        "      <td>    0.0</td>\n",
        "    </tr>\n",
        "    <tr>\n",
        "      <th>4</th>\n",
        "      <td> 12128</td>\n",
        "      <td> 01/May/1998</td>\n",
        "      <td> 13:30:21</td>\n",
        "      <td>   /english/images/nav_sitemap_off.gif</td>\n",
        "      <td> 304</td>\n",
        "      <td>  NaN</td>\n",
        "      <td>    NaN</td>\n",
        "    </tr>\n",
        "  </tbody>\n",
        "</table>\n",
        "<p>5 rows \u00d7 7 columns</p>\n",
        "</div>"
       ],
       "metadata": {},
       "output_type": "pyout",
       "prompt_number": 11,
       "text": [
        "   ClientID         Date      Time                                    URL  \\\n",
        "0      1044  30/Apr/1998  22:46:12                      /images/11104.gif   \n",
        "1     10871  01/May/1998  12:10:53                      /images/ligne.gif   \n",
        "2     11012  01/May/1998  12:17:30  /english/individuals/player111503.htm   \n",
        "3     11435  01/May/1998  13:15:13                   /french/frntpage.htm   \n",
        "4     12128  01/May/1998  13:30:21    /english/images/nav_sitemap_off.gif   \n",
        "\n",
        "   ResponseCode  Size  CompressedSize  \n",
        "0           200   508           355.6  \n",
        "1           200   169           118.3  \n",
        "2           200  7027          4918.9  \n",
        "3           304     0             0.0  \n",
        "4           304   NaN             NaN  \n",
        "\n",
        "[5 rows x 7 columns]"
       ]
      }
     ],
     "prompt_number": 11
    },
    {
     "cell_type": "code",
     "collapsed": false,
     "input": [
      "data.dropna().head()"
     ],
     "language": "python",
     "metadata": {},
     "outputs": [
      {
       "html": [
        "<div style=\"max-height:1000px;max-width:1500px;overflow:auto;\">\n",
        "<table border=\"1\" class=\"dataframe\">\n",
        "  <thead>\n",
        "    <tr style=\"text-align: right;\">\n",
        "      <th></th>\n",
        "      <th>ClientID</th>\n",
        "      <th>Date</th>\n",
        "      <th>Time</th>\n",
        "      <th>URL</th>\n",
        "      <th>ResponseCode</th>\n",
        "      <th>Size</th>\n",
        "      <th>CompressedSize</th>\n",
        "    </tr>\n",
        "  </thead>\n",
        "  <tbody>\n",
        "    <tr>\n",
        "      <th>0</th>\n",
        "      <td>  1044</td>\n",
        "      <td> 30/Apr/1998</td>\n",
        "      <td> 22:46:12</td>\n",
        "      <td>                     /images/11104.gif</td>\n",
        "      <td> 200</td>\n",
        "      <td>   508</td>\n",
        "      <td>   355.6</td>\n",
        "    </tr>\n",
        "    <tr>\n",
        "      <th>1</th>\n",
        "      <td> 10871</td>\n",
        "      <td> 01/May/1998</td>\n",
        "      <td> 12:10:53</td>\n",
        "      <td>                     /images/ligne.gif</td>\n",
        "      <td> 200</td>\n",
        "      <td>   169</td>\n",
        "      <td>   118.3</td>\n",
        "    </tr>\n",
        "    <tr>\n",
        "      <th>2</th>\n",
        "      <td> 11012</td>\n",
        "      <td> 01/May/1998</td>\n",
        "      <td> 12:17:30</td>\n",
        "      <td> /english/individuals/player111503.htm</td>\n",
        "      <td> 200</td>\n",
        "      <td>  7027</td>\n",
        "      <td>  4918.9</td>\n",
        "    </tr>\n",
        "    <tr>\n",
        "      <th>3</th>\n",
        "      <td> 11435</td>\n",
        "      <td> 01/May/1998</td>\n",
        "      <td> 13:15:13</td>\n",
        "      <td>                  /french/frntpage.htm</td>\n",
        "      <td> 304</td>\n",
        "      <td>     0</td>\n",
        "      <td>     0.0</td>\n",
        "    </tr>\n",
        "    <tr>\n",
        "      <th>5</th>\n",
        "      <td> 13649</td>\n",
        "      <td> 01/May/1998</td>\n",
        "      <td> 14:55:01</td>\n",
        "      <td>                /images/hm_anime_e.gif</td>\n",
        "      <td> 200</td>\n",
        "      <td> 15609</td>\n",
        "      <td> 10926.3</td>\n",
        "    </tr>\n",
        "  </tbody>\n",
        "</table>\n",
        "<p>5 rows \u00d7 7 columns</p>\n",
        "</div>"
       ],
       "metadata": {},
       "output_type": "pyout",
       "prompt_number": 12,
       "text": [
        "   ClientID         Date      Time                                    URL  \\\n",
        "0      1044  30/Apr/1998  22:46:12                      /images/11104.gif   \n",
        "1     10871  01/May/1998  12:10:53                      /images/ligne.gif   \n",
        "2     11012  01/May/1998  12:17:30  /english/individuals/player111503.htm   \n",
        "3     11435  01/May/1998  13:15:13                   /french/frntpage.htm   \n",
        "5     13649  01/May/1998  14:55:01                 /images/hm_anime_e.gif   \n",
        "\n",
        "   ResponseCode   Size  CompressedSize  \n",
        "0           200    508           355.6  \n",
        "1           200    169           118.3  \n",
        "2           200   7027          4918.9  \n",
        "3           304      0             0.0  \n",
        "5           200  15609         10926.3  \n",
        "\n",
        "[5 rows x 7 columns]"
       ]
      }
     ],
     "prompt_number": 12
    },
    {
     "cell_type": "code",
     "collapsed": false,
     "input": [
      "data['DateTime'] = pd.to_datetime(data.apply(lambda row: row['Date'] + ' ' + row['Time'], axis=1))"
     ],
     "language": "python",
     "metadata": {},
     "outputs": [],
     "prompt_number": 13
    },
    {
     "cell_type": "code",
     "collapsed": false,
     "input": [
      "data.DateTime.head()"
     ],
     "language": "python",
     "metadata": {},
     "outputs": [
      {
       "metadata": {},
       "output_type": "pyout",
       "prompt_number": 14,
       "text": [
        "0   1998-04-30 22:46:12\n",
        "1   1998-05-01 12:10:53\n",
        "2   1998-05-01 12:17:30\n",
        "3   1998-05-01 13:15:13\n",
        "4   1998-05-01 13:30:21\n",
        "Name: DateTime, dtype: datetime64[ns]"
       ]
      }
     ],
     "prompt_number": 14
    },
    {
     "cell_type": "code",
     "collapsed": false,
     "input": [
      "hour = data.DateTime.map(lambda x: x.hour)"
     ],
     "language": "python",
     "metadata": {},
     "outputs": [],
     "prompt_number": 15
    },
    {
     "cell_type": "code",
     "collapsed": false,
     "input": [
      "hour"
     ],
     "language": "python",
     "metadata": {},
     "outputs": [
      {
       "metadata": {},
       "output_type": "pyout",
       "prompt_number": 16,
       "text": [
        "0     22\n",
        "1     12\n",
        "2     12\n",
        "3     13\n",
        "4     13\n",
        "5     14\n",
        "6     16\n",
        "7     17\n",
        "8     17\n",
        "9     17\n",
        "10    18\n",
        "11    12\n",
        "12    18\n",
        "13    19\n",
        "14    19\n",
        "...\n",
        "199985    22\n",
        "199986     9\n",
        "199987    16\n",
        "199988    16\n",
        "199989    11\n",
        "199990    16\n",
        "199991    13\n",
        "199992    14\n",
        "199993    23\n",
        "199994    23\n",
        "199995    15\n",
        "199996    15\n",
        "199997     8\n",
        "199998    18\n",
        "199999    19\n",
        "Name: DateTime, Length: 200000, dtype: int64"
       ]
      }
     ],
     "prompt_number": 16
    },
    {
     "cell_type": "code",
     "collapsed": false,
     "input": [
      "hour_grouped = data.groupby(hour)\n",
      "hour_grouped.ngroups"
     ],
     "language": "python",
     "metadata": {},
     "outputs": [
      {
       "metadata": {},
       "output_type": "pyout",
       "prompt_number": 17,
       "text": [
        "24"
       ]
      }
     ],
     "prompt_number": 17
    },
    {
     "cell_type": "code",
     "collapsed": false,
     "input": [
      "%matplotlib inline"
     ],
     "language": "python",
     "metadata": {},
     "outputs": [],
     "prompt_number": 18
    },
    {
     "cell_type": "code",
     "collapsed": false,
     "input": [
      "hour_grouped.Size.count().plot();"
     ],
     "language": "python",
     "metadata": {},
     "outputs": [
      {
       "metadata": {},
       "output_type": "display_data",
       "png": "[encoded data removed]",
       "text": [
        "<matplotlib.figure.Figure at 0x6127910>"
       ]
      }
     ],
     "prompt_number": 19
    },
    {
     "cell_type": "code",
     "collapsed": false,
     "input": [
      "hour_grouped.Size.sum().plot();"
     ],
     "language": "python",
     "metadata": {},
     "outputs": [
      {
       "metadata": {},
       "output_type": "display_data",
       "png": "[encoded data removed]",
       "text": [
        "<matplotlib.figure.Figure at 0x4dd8110>"
       ]
      }
     ],
     "prompt_number": 20
    },
    {
     "cell_type": "code",
     "collapsed": false,
     "input": [
      "hour_grouped.Size.agg(np.sum).plot();"
     ],
     "language": "python",
     "metadata": {},
     "outputs": [
      {
       "metadata": {},
       "output_type": "display_data",
       "png": "[encoded data removed]",
       "text": [
        "<matplotlib.figure.Figure at 0x505eb50>"
       ]
      }
     ],
     "prompt_number": 21
    },
    {
     "cell_type": "code",
     "collapsed": false,
     "input": [
      "data.Size.hist(bins=100, log=True);"
     ],
     "language": "python",
     "metadata": {},
     "outputs": [
      {
       "metadata": {},
       "output_type": "display_data",
       "png": "[encoded data removed]",
       "text": [
        "<matplotlib.figure.Figure at 0x4dccf50>"
       ]
      }
     ],
     "prompt_number": 22
    },
    {
     "cell_type": "code",
     "collapsed": false,
     "input": [
      "data.Size[data.URL.map(lambda x:x.endswith(\"jpg\"))].hist(bins=100, log=True);"
     ],
     "language": "python",
     "metadata": {},
     "outputs": [
      {
       "metadata": {},
       "output_type": "display_data",
       "png": "[encoded data removed]",
       "text": [
        "<matplotlib.figure.Figure at 0x3f8c8d0>"
       ]
      }
     ],
     "prompt_number": 23
    },
    {
     "cell_type": "code",
     "collapsed": false,
     "input": [],
     "language": "python",
     "metadata": {},
     "outputs": []
    }
   ],
   "metadata": {}
  }
 ]
}