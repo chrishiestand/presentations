{
 "metadata": {
  "name": "",
  "signature": "sha256:a04c1163c768d2d17122d988dbf1bd395d1c5a28dfa3edec807341a2bbdadbb7"
 },
 "nbformat": 3,
 "nbformat_minor": 0,
 "worksheets": [
  {
   "cells": [
    {
     "cell_type": "markdown",
     "metadata": {},
     "source": [
      "# Python Tricks\n",
      "\n",
      "We're going to review 3 syntactic tricks that are unique to Python:\n",
      "\n",
      "1. Chained Comparisons\n",
      "2. Packing and Unpacking Tuples\n",
      "3. Inline If Statements"
     ]
    },
    {
     "cell_type": "markdown",
     "metadata": {},
     "source": [
      "## Chained Comparisons\n",
      "\n",
      "Comparison operations can be chained in Python."
     ]
    },
    {
     "cell_type": "markdown",
     "metadata": {},
     "source": [
      "First let's define some variables:"
     ]
    },
    {
     "cell_type": "code",
     "collapsed": false,
     "input": [
      "x = 1\n",
      "y = 2\n",
      "z = 3\n",
      "\n",
      "h = 42\n",
      "i = 42\n",
      "j = 42\n",
      "k = 42\n"
     ],
     "language": "python",
     "metadata": {},
     "outputs": []
    },
    {
     "cell_type": "markdown",
     "metadata": {},
     "source": [
      "Here's a traditional comparison between three variables:"
     ]
    },
    {
     "cell_type": "code",
     "collapsed": false,
     "input": [
      "if x < y and y < z:\n",
      "    print(\"{} < {} < {}\".format(x, y, z))"
     ],
     "language": "python",
     "metadata": {},
     "outputs": []
    },
    {
     "cell_type": "markdown",
     "metadata": {},
     "source": [
      "Here's a chained comparison between three variables:"
     ]
    },
    {
     "cell_type": "code",
     "collapsed": false,
     "input": [
      "if x < y < z:\n",
      "    print(\"{} < {} < {}\".format(x, y, z))"
     ],
     "language": "python",
     "metadata": {},
     "outputs": []
    },
    {
     "cell_type": "markdown",
     "metadata": {},
     "source": [
      "### Less Repetition\n",
      "\n",
      "Just compare this:"
     ]
    },
    {
     "cell_type": "code",
     "collapsed": false,
     "input": [
      "if h == i and i == j and j == k:\n",
      "    print(\"h, i, j, and k are equivalent\")"
     ],
     "language": "python",
     "metadata": {},
     "outputs": []
    },
    {
     "cell_type": "markdown",
     "metadata": {},
     "source": [
      "To this:"
     ]
    },
    {
     "cell_type": "code",
     "collapsed": false,
     "input": [
      "if h == i == j == k:\n",
      "    print(\"h, i, j, and k are equivalent\")"
     ],
     "language": "python",
     "metadata": {},
     "outputs": []
    },
    {
     "cell_type": "markdown",
     "metadata": {},
     "source": [
      "### Less Temporary Variables\n",
      "\n",
      "Sometimes expressions are used in comparisons.  Evaluating an expression twice\n",
      "can be inefficient or may lead to invalid results.\n",
      "\n",
      "One way to compare against the current time is"
     ]
    },
    {
     "cell_type": "code",
     "collapsed": false,
     "input": [
      "from datetime import time, datetime\n",
      "\n",
      "now = datetime.now().time()\n",
      "if time(11, 0) < now and now < time(21, 0):\n",
      "    print(\"It's between 11am and 9pm\")\n"
     ],
     "language": "python",
     "metadata": {},
     "outputs": []
    },
    {
     "cell_type": "markdown",
     "metadata": {},
     "source": [
      "Without the need for a temporary variable:"
     ]
    },
    {
     "cell_type": "code",
     "collapsed": false,
     "input": [
      "from datetime import time, datetime\n",
      "\n",
      "if time(11, 0) < datetime.now().time() < time(21, 0):\n",
      "    print(\"It's between 11am and 9pm\")\n"
     ],
     "language": "python",
     "metadata": {},
     "outputs": []
    },
    {
     "cell_type": "markdown",
     "metadata": {},
     "source": [
      "## Packing and Unpacking Tuples\n",
      "\n",
      "### Tuple Review\n",
      "\n",
      "[Tuples][] are immutable sequence objects (like lists that can't be modified).\n",
      "\n",
      "[tuples]: http://docs.python.org/3/library/functions.html#tuple\n",
      "\n",
      "You can create a tuple by separating values by commas and surrounding them by parenthesis.\n",
      "\n",
      "Example:\n"
     ]
    },
    {
     "cell_type": "code",
     "collapsed": false,
     "input": [
      "example_tuple = (1, 2, 3)\n",
      "example_tuple"
     ],
     "language": "python",
     "metadata": {},
     "outputs": []
    },
    {
     "cell_type": "markdown",
     "metadata": {},
     "source": [
      "Tuple creation is sometimes called \"tuple packing\".\n",
      "\n",
      "You can usually leave off the parenthesis:"
     ]
    },
    {
     "cell_type": "code",
     "collapsed": false,
     "input": [
      "example_tuple = 1, 2, 3\n",
      "example_tuple"
     ],
     "language": "python",
     "metadata": {},
     "outputs": []
    },
    {
     "cell_type": "markdown",
     "metadata": {},
     "source": [
      "An empty pair of parenthesis creates an empty tuple:"
     ]
    },
    {
     "cell_type": "code",
     "collapsed": false,
     "input": [
      "empty_tuple = ()\n",
      "empty_tuple"
     ],
     "language": "python",
     "metadata": {},
     "outputs": []
    },
    {
     "cell_type": "markdown",
     "metadata": {},
     "source": [
      "A single-element tuple must have a trailing comma.\n",
      "\n",
      "Example:"
     ]
    },
    {
     "cell_type": "code",
     "collapsed": false,
     "input": [
      "single_element_tuple = 1,\n",
      "single_element_tuple"
     ],
     "language": "python",
     "metadata": {},
     "outputs": []
    },
    {
     "cell_type": "markdown",
     "metadata": {},
     "source": [
      "### Unpacking Sequences\n",
      "\n",
      "Tuples, lists, strings, and dictionary are all sequences.\n",
      "\n",
      "Python supports \"multiple assignment\" by unpacking sequences.\n",
      "\n",
      "A basic example of multiple assignment:"
     ]
    },
    {
     "cell_type": "code",
     "collapsed": false,
     "input": [
      "a, b, c = example_tuple\n"
     ],
     "language": "python",
     "metadata": {},
     "outputs": []
    },
    {
     "cell_type": "markdown",
     "metadata": {},
     "source": [
      "A more complex example using deeper unpacking:"
     ]
    },
    {
     "cell_type": "code",
     "collapsed": false,
     "input": [
      "locations = [(1, 2, 3), (3, 4, 5), (5, 6, 7)]\n",
      "\n",
      "for (i, (x, y, z)) in enumerate(locations):\n",
      "    print(\"p{}: {}, {}, {}\".format(i, x, y, z))"
     ],
     "language": "python",
     "metadata": {},
     "outputs": []
    },
    {
     "cell_type": "markdown",
     "metadata": {},
     "source": [
      "### Swapping Variables\n",
      "\n",
      "Combining tuple packing with sequence unpacking allows for multiple assignment:"
     ]
    },
    {
     "cell_type": "code",
     "collapsed": false,
     "input": [
      "x, y, z = 1, 2, 3\n"
     ],
     "language": "python",
     "metadata": {},
     "outputs": []
    },
    {
     "cell_type": "markdown",
     "metadata": {},
     "source": [
      "Multiple assignment can be used to swap two variables in a single line of code:"
     ]
    },
    {
     "cell_type": "code",
     "collapsed": false,
     "input": [
      "x, y = y, x\n"
     ],
     "language": "python",
     "metadata": {},
     "outputs": []
    },
    {
     "cell_type": "markdown",
     "metadata": {},
     "source": [
      "Without multiple assignment we would need a temporary variable to swap values:"
     ]
    },
    {
     "cell_type": "code",
     "collapsed": false,
     "input": [
      "t = x  # hold old value of x in a temporary variable\n",
      "x = y\n",
      "y = t\n"
     ],
     "language": "python",
     "metadata": {},
     "outputs": []
    },
    {
     "cell_type": "markdown",
     "metadata": {},
     "source": [
      "## Inline if statements\n",
      "\n",
      "Many languages support a [ternary operator][] (a.k.a. conditional operator).  Ternary operators are useful for replacing very simple if statements, often making them easier to read.\n",
      "\n",
      "[ternary operator]: https://en.wikipedia.org/wiki/%3F:\n",
      "\n",
      "### Traditional Examples\n",
      "\n",
      "A simple if statement in JavaScript:\n",
      "\n",
      "```javascript\n",
      "var age = 20;\n",
      "var ticketType;\n",
      "if (age < 18) {\n",
      "    ticketType = \"child\";\n",
      "} else {\n",
      "    ticketType = \"adult\";\n",
      "}\n",
      "```\n",
      "\n",
      "Equivalent code abusing short circuit boolean operator logic:\n",
      "\n",
      "```javascript\n",
      "var ticketType = age < 18 && \"child\" || \"adult\";\n",
      "```\n",
      "\n",
      "Equivalent code written using a traditional ternary operator:\n",
      "\n",
      "```javascript\n",
      "var ticketType = age < 18 ? \"child\" : \"adult\";\n",
      "```\n",
      "\n",
      "That `?:` operator is present in C, Perl, Ruby, JavaScript and many other languages.\n",
      "\n",
      "### Python's Inline If\n",
      "\n",
      "Python supports inline if statements which work very similarly to the ternary operator.\n",
      "\n",
      "Here's a simple if statement in Python:"
     ]
    },
    {
     "cell_type": "code",
     "collapsed": false,
     "input": [
      "age = 20\n",
      "if age < 18:\n",
      "    ticket_type = \"child\"\n",
      "else:\n",
      "    ticket_type = \"adult\"\n"
     ],
     "language": "python",
     "metadata": {},
     "outputs": []
    },
    {
     "cell_type": "markdown",
     "metadata": {},
     "source": [
      "Equivalent code abusing short circuit boolean operator logic:"
     ]
    },
    {
     "cell_type": "code",
     "collapsed": false,
     "input": [
      "ticket_type = age < 18 and \"child\" or \"adult\"  # Please don't do this\n"
     ],
     "language": "python",
     "metadata": {},
     "outputs": []
    },
    {
     "cell_type": "markdown",
     "metadata": {},
     "source": [
      "Equivalent code written using an inline if statement:"
     ]
    },
    {
     "cell_type": "code",
     "collapsed": false,
     "input": [
      "ticket_type = \"child\" if age < 18 else \"adult\"\n"
     ],
     "language": "python",
     "metadata": {},
     "outputs": []
    },
    {
     "cell_type": "markdown",
     "metadata": {},
     "source": [
      "## References\n",
      "\n",
      "This talk was inspired by [Python Shortcuts for the Python Beginner][1] by Max Burstein.\n",
      "\n",
      "Chained Comparisons:\n",
      "\n",
      "* [Comparisons][2] (Python Documentation)\n",
      "* [Is this chained comparison readable?][3]\n",
      "* [Python comparison operators chaining][4]\n",
      "\n",
      "Tuples:\n",
      "\n",
      "* [Tuples and Sequences][5] (Python Documentation)\n",
      "* [Packing and Unpacking Tuples for Identifier Switching][6]\n",
      "* [PEP 3113: Removal of Tuple Parameter Unpacking][7]\n",
      "\n",
      "Inline If:\n",
      "\n",
      "* [Conditional Expressions][8] (Python Documentation)\n",
      "* [Python 101: The Ternary Operator][9]\n",
      "* [I'm annoyed with Python's ternary operator][10]\n",
      "\n",
      "[1]: http://maxburstein.com/blog/python-shortcuts-for-the-python-beginner/\n",
      "[2]: https://docs.python.org/3/reference/expressions.html#not-in\n",
      "[3]: http://codereview.stackexchange.com/questions/28456/is-this-chained-comparison-readable\n",
      "[4]: http://blog.stirbu.name/2013/07/python-comparison-operators-chaining/\n",
      "[5]: https://docs.python.org/3/tutorial/datastructures.html#tuples-and-sequences\n",
      "[6]: http://markcharyk.com/post/78449356329/packing-and-unpacking-tuples-for-identifier\n",
      "[7]: http://legacy.python.org/dev/peps/pep-3113/\n",
      "[8]: https://docs.python.org/3/reference/expressions.html?highlight=conditional%20expression#conditional-expressions\n",
      "[9]: http://www.blog.pythonlibrary.org/2012/08/29/python-101-the-ternary-operator/\n",
      "[10]: http://pythontesting.net/python/annoyed-ternary-operator/"
     ]
    }
   ],
   "metadata": {}
  }
 ]
}